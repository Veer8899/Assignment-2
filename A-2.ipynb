{
 "cells": [
  {
   "cell_type": "markdown",
   "id": "e1ce2e3c-fcb8-489c-84c6-b4a101df23eb",
   "metadata": {},
   "source": [
    "## Q1. How do you comment code in Python? What are the different types of comments?"
   ]
  },
  {
   "cell_type": "markdown",
   "id": "ebf74e4a-5534-4cae-9bff-8fefb4e2c221",
   "metadata": {},
   "source": [
    "#### We can do comment code in python by using the hash character(#).\n",
    "\n",
    "#### There are two different types of comments, they are:\n",
    "\n",
    "#### 1. Single line comments---> In this we can use hash symbol(#) before the text or code, for eg:"
   ]
  },
  {
   "cell_type": "code",
   "execution_count": 1,
   "id": "245d1d3c-a8e0-49fc-8011-670afb4fa8b3",
   "metadata": {},
   "outputs": [],
   "source": [
    "# This is a single line comment"
   ]
  },
  {
   "cell_type": "markdown",
   "id": "d7afddc1-bb9e-4647-a488-5282992d6a45",
   "metadata": {},
   "source": [
    "#### 2. Multi line comments--->By using triple quotes before and after the text or code and in later case if we want, we can also use as string , for eg:"
   ]
  },
  {
   "cell_type": "code",
   "execution_count": 5,
   "id": "60b1acda-b230-4553-ab76-be4392c2844c",
   "metadata": {},
   "outputs": [
    {
     "data": {
      "text/plain": [
       "'This is a multi line comment'"
      ]
     },
     "execution_count": 5,
     "metadata": {},
     "output_type": "execute_result"
    }
   ],
   "source": [
    "\"\"\"This is a multi line comment\"\"\""
   ]
  },
  {
   "cell_type": "markdown",
   "id": "85fc1b6d-ae01-4097-83db-83be5c1fe0a7",
   "metadata": {},
   "source": [
    "## Q2. What are variables in Python? How do you declare and assign values to variables?"
   ]
  },
  {
   "cell_type": "markdown",
   "id": "26234830-7693-4160-b4f7-058186ac69a4",
   "metadata": {},
   "source": [
    "#### Variables are used to store and refer the values. It is a name that represents memory location where the data is stored and whenever we want we can easily extract the data by using variable name in which we have stored the data. We can assign value of different types like numbers, strings, lists, or objects, to variables.\n"
   ]
  },
  {
   "cell_type": "markdown",
   "id": "00f9e546-5b8f-4cbb-99c7-e48b3555b591",
   "metadata": {},
   "source": [
    "#### To declare and assign the values to variables by simply using name  for variable and use the assignment operator(=) to assign the value. for eg:\n"
   ]
  },
  {
   "cell_type": "code",
   "execution_count": 6,
   "id": "f7a76358-14d1-4697-9e4c-0cf0d0b0008f",
   "metadata": {},
   "outputs": [],
   "source": [
    "name = \"Ram\""
   ]
  },
  {
   "cell_type": "code",
   "execution_count": 7,
   "id": "7737f186-4913-4771-aa40-afe3957a2254",
   "metadata": {},
   "outputs": [
    {
     "data": {
      "text/plain": [
       "'Ram'"
      ]
     },
     "execution_count": 7,
     "metadata": {},
     "output_type": "execute_result"
    }
   ],
   "source": [
    "name"
   ]
  },
  {
   "cell_type": "markdown",
   "id": "658b3d23-9b7b-4091-8b30-5b89ab57e7a6",
   "metadata": {},
   "source": [
    "## Q3. How do you convert one data type to another in Python?"
   ]
  },
  {
   "cell_type": "code",
   "execution_count": 8,
   "id": "a18dcb5f-5256-434e-96dc-3ebf5bffc146",
   "metadata": {},
   "outputs": [],
   "source": [
    "x = 4\n",
    "y = float(x) #Convert int to float"
   ]
  },
  {
   "cell_type": "code",
   "execution_count": 9,
   "id": "300752a2-e347-403e-bc8a-45779c3b1375",
   "metadata": {},
   "outputs": [
    {
     "data": {
      "text/plain": [
       "4.0"
      ]
     },
     "execution_count": 9,
     "metadata": {},
     "output_type": "execute_result"
    }
   ],
   "source": [
    "y"
   ]
  },
  {
   "cell_type": "code",
   "execution_count": 10,
   "id": "2294996c-1892-4604-8b52-04f803e4fc7d",
   "metadata": {},
   "outputs": [
    {
     "data": {
      "text/plain": [
       "'4'"
      ]
     },
     "execution_count": 10,
     "metadata": {},
     "output_type": "execute_result"
    }
   ],
   "source": [
    "x = 4\n",
    "b = str(x) # Convert int to string\n",
    "b"
   ]
  },
  {
   "cell_type": "markdown",
   "id": "85862d5b-6e9b-42ce-98a7-45d8c69a9544",
   "metadata": {},
   "source": [
    "## Q4. How do you write and execute a Python script from the command line?"
   ]
  },
  {
   "cell_type": "markdown",
   "id": "1e5cb6e2-f3cd-4ef6-8ecf-968e65d6c66b",
   "metadata": {},
   "source": [
    "#### 1. Open the text editor or IDE and write our Python code in it. For eg:\n",
    ">>>print(\"Hello, World!\")\n",
    "#### 2. Save the file with .py extension after writing our code, for eg. script.py.\n",
    "#### 3. Open a command prompt or terminal on our operating system. Go to the directory where we saved the Python script using the cd command for e.g., cd C:\\path\\to\\script\\directory.\n",
    "#### 4. When we are in the directory, we can execute the Python script by running the python command followed by the name of our script file. For example:\n",
    ">>>python script.py\n",
    "\n"
   ]
  },
  {
   "cell_type": "markdown",
   "id": "7aec651a-04b7-4219-b1c9-9244f582ee99",
   "metadata": {},
   "source": [
    "## Q5. Given a list my_list = [1, 2, 3, 4, 5], write the code to slice the list and obtain the sub-list [2, 3]."
   ]
  },
  {
   "cell_type": "code",
   "execution_count": 11,
   "id": "320285e5-1dba-46d1-afa7-443e609ac37a",
   "metadata": {},
   "outputs": [],
   "source": [
    "my_list = [1, 2, 3, 4, 5]"
   ]
  },
  {
   "cell_type": "code",
   "execution_count": 12,
   "id": "8a6bce97-72e0-45b7-acf7-7c85109b7917",
   "metadata": {},
   "outputs": [
    {
     "data": {
      "text/plain": [
       "[2, 3]"
      ]
     },
     "execution_count": 12,
     "metadata": {},
     "output_type": "execute_result"
    }
   ],
   "source": [
    "my_list[1:3] #To slice the list"
   ]
  },
  {
   "cell_type": "markdown",
   "id": "5b283a96-8e2e-49cf-a381-e857d39fa63a",
   "metadata": {},
   "source": [
    "## Q6. What is a complex number in mathematics, and how is it represented in Python?"
   ]
  },
  {
   "cell_type": "markdown",
   "id": "014f1d49-5781-4f5d-bec3-3202de9e78ec",
   "metadata": {},
   "source": [
    "#### A complex number always contain real and imaginary part in both mathematics as well as in python, In mathematics, it expressed as \"4+6i\", where a is real part, b is imaginary part and i is imaginary unit where as in python we expressed as \"5+6j\", where \"j\" must be denoted in lowercase."
   ]
  },
  {
   "cell_type": "code",
   "execution_count": 25,
   "id": "856e3451-bd13-481e-a1ee-b1ea410ecac2",
   "metadata": {},
   "outputs": [],
   "source": [
    "x = 4 + 5j #complex number in python"
   ]
  },
  {
   "cell_type": "code",
   "execution_count": 26,
   "id": "c9eb255f-01b1-4aaa-88db-b99c14a7af2f",
   "metadata": {},
   "outputs": [
    {
     "data": {
      "text/plain": [
       "complex"
      ]
     },
     "execution_count": 26,
     "metadata": {},
     "output_type": "execute_result"
    }
   ],
   "source": [
    "type(x)"
   ]
  },
  {
   "cell_type": "markdown",
   "id": "a236408d-affa-49d8-805a-3063f1cb83de",
   "metadata": {},
   "source": [
    "## Q7. What is the correct way to declare a variable named age and assign the value 25 to it?"
   ]
  },
  {
   "cell_type": "code",
   "execution_count": 14,
   "id": "18658da5-27f9-4f13-8505-54fc5ef659c3",
   "metadata": {},
   "outputs": [],
   "source": [
    "age = 25"
   ]
  },
  {
   "cell_type": "markdown",
   "id": "a9573a56-30c0-4362-bfa3-952b354954f6",
   "metadata": {},
   "source": [
    "## Q8. Declare a variable named price and assign the value 9.99 to it. What data type does this variable belong to?"
   ]
  },
  {
   "cell_type": "code",
   "execution_count": 15,
   "id": "48ee2fb8-066c-425a-9ed0-4706cdefa689",
   "metadata": {},
   "outputs": [],
   "source": [
    "price = 9.99"
   ]
  },
  {
   "cell_type": "code",
   "execution_count": 16,
   "id": "69726afa-e836-41df-96c6-89cdf42017f1",
   "metadata": {},
   "outputs": [
    {
     "data": {
      "text/plain": [
       "float"
      ]
     },
     "execution_count": 16,
     "metadata": {},
     "output_type": "execute_result"
    }
   ],
   "source": [
    "type(price)#data type"
   ]
  },
  {
   "cell_type": "markdown",
   "id": "738dc291-52f6-4881-bdc3-0e278a80e02b",
   "metadata": {},
   "source": [
    "## Q9. Create a variable named name and assign your full name to it as a string. How would you print the value of this variable?"
   ]
  },
  {
   "cell_type": "code",
   "execution_count": 17,
   "id": "a2bac239-ebce-4d5f-94b1-05853700c19b",
   "metadata": {},
   "outputs": [
    {
     "name": "stdout",
     "output_type": "stream",
     "text": [
      "Nirmal Raj\n"
     ]
    }
   ],
   "source": [
    "name = \"Nirmal Raj\"\n",
    "\n",
    "print(name)# print the value of this variable."
   ]
  },
  {
   "cell_type": "markdown",
   "id": "1455a346-2e49-40da-b1e6-436bdc2e3943",
   "metadata": {},
   "source": [
    "## Q10. Given the string \"Hello, World!\", extract the substring \"World\"."
   ]
  },
  {
   "cell_type": "code",
   "execution_count": 18,
   "id": "42cfeb19-fdf0-48c8-b9f4-ee733e8778da",
   "metadata": {},
   "outputs": [],
   "source": [
    "str1 = \"Hello, World!\""
   ]
  },
  {
   "cell_type": "code",
   "execution_count": 19,
   "id": "ad927416-da71-4623-8c88-ad59fc87fc5f",
   "metadata": {},
   "outputs": [
    {
     "data": {
      "text/plain": [
       "'World'"
      ]
     },
     "execution_count": 19,
     "metadata": {},
     "output_type": "execute_result"
    }
   ],
   "source": [
    "str1[7:12] #extracting the substring \"World\"."
   ]
  },
  {
   "cell_type": "markdown",
   "id": "be3a61f4-25b7-4263-a84d-c01097c30ef6",
   "metadata": {},
   "source": [
    "## Q11. Create a variable named \"is_student\" and assign it a boolean value indicating whether you are currently a student or not."
   ]
  },
  {
   "cell_type": "code",
   "execution_count": 20,
   "id": "c0b62035-0586-4cba-97c4-b9c3de1f3e0b",
   "metadata": {},
   "outputs": [],
   "source": [
    "is_student = True"
   ]
  }
 ],
 "metadata": {
  "kernelspec": {
   "display_name": "Python 3 (ipykernel)",
   "language": "python",
   "name": "python3"
  },
  "language_info": {
   "codemirror_mode": {
    "name": "ipython",
    "version": 3
   },
   "file_extension": ".py",
   "mimetype": "text/x-python",
   "name": "python",
   "nbconvert_exporter": "python",
   "pygments_lexer": "ipython3",
   "version": "3.10.8"
  }
 },
 "nbformat": 4,
 "nbformat_minor": 5
}
